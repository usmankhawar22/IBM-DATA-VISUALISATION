{
  "nbformat": 4,
  "nbformat_minor": 0,
  "metadata": {
    "colab": {
      "name": "client task.ipynb",
      "provenance": [],
      "toc_visible": true,
      "authorship_tag": "ABX9TyNb7Oe+Sg0eTTCGVEuXBdwg",
      "include_colab_link": true
    },
    "kernelspec": {
      "name": "python3",
      "display_name": "Python 3"
    }
  },
  "cells": [
    {
      "cell_type": "markdown",
      "metadata": {
        "id": "view-in-github",
        "colab_type": "text"
      },
      "source": [
        "<a href=\"https://colab.research.google.com/github/usmankhawar22/IBM-DATA-VISUALISATION/blob/master/client_task.ipynb\" target=\"_parent\"><img src=\"https://colab.research.google.com/assets/colab-badge.svg\" alt=\"Open In Colab\"/></a>"
      ]
    },
    {
      "cell_type": "markdown",
      "metadata": {
        "button": false,
        "new_sheet": false,
        "run_control": {
          "read_only": false
        },
        "id": "NJqgUKnBXOle",
        "colab_type": "text"
      },
      "source": [
        "# Downloading and Prepping Data <a id=\"2\"></a>"
      ]
    },
    {
      "cell_type": "code",
      "metadata": {
        "button": false,
        "new_sheet": false,
        "run_control": {
          "read_only": false
        },
        "id": "BRPPsDBOXOlg",
        "colab_type": "code",
        "colab": {}
      },
      "source": [
        "import numpy as np  # useful for many scientific computing in Python\n",
        "import pandas as pd # primary data structure library"
      ],
      "execution_count": 4,
      "outputs": []
    },
    {
      "cell_type": "code",
      "metadata": {
        "button": false,
        "new_sheet": false,
        "run_control": {
          "read_only": false
        },
        "id": "SKrfQUYoXOln",
        "colab_type": "code",
        "colab": {
          "base_uri": "https://localhost:8080/",
          "height": 34
        },
        "outputId": "43e857ec-84e9-4395-f8cd-c84d4535f733"
      },
      "source": [
        "df = pd.read_excel('schools-ge-by-zone-stage-2012-2013.xlsx',\n",
        "                       sheet_name='Sheet1',\n",
        "                      #  skiprows=range(20),\n",
        "                      #  skipfooter=2\n",
        "                      )\n",
        "\n",
        "print('Data downloaded and read into a dataframe!')"
      ],
      "execution_count": 5,
      "outputs": [
        {
          "output_type": "stream",
          "text": [
            "Data downloaded and read into a dataframe!\n"
          ],
          "name": "stdout"
        }
      ]
    },
    {
      "cell_type": "markdown",
      "metadata": {
        "button": false,
        "new_sheet": false,
        "run_control": {
          "read_only": false
        },
        "id": "6PrnZpROXOlt",
        "colab_type": "text"
      },
      "source": [
        "Let's take a look at the first five items in our dataset."
      ]
    },
    {
      "cell_type": "code",
      "metadata": {
        "button": false,
        "new_sheet": false,
        "run_control": {
          "read_only": false
        },
        "id": "NhCRM4flXOlt",
        "colab_type": "code",
        "colab": {
          "base_uri": "https://localhost:8080/",
          "height": 204
        },
        "outputId": "f71e8bdc-fff6-4429-e4a3-1291d9bf8155"
      },
      "source": [
        "df.head()"
      ],
      "execution_count": 6,
      "outputs": [
        {
          "output_type": "execute_result",
          "data": {
            "text/html": [
              "<div>\n",
              "<style scoped>\n",
              "    .dataframe tbody tr th:only-of-type {\n",
              "        vertical-align: middle;\n",
              "    }\n",
              "\n",
              "    .dataframe tbody tr th {\n",
              "        vertical-align: top;\n",
              "    }\n",
              "\n",
              "    .dataframe thead th {\n",
              "        text-align: right;\n",
              "    }\n",
              "</style>\n",
              "<table border=\"1\" class=\"dataframe\">\n",
              "  <thead>\n",
              "    <tr style=\"text-align: right;\">\n",
              "      <th></th>\n",
              "      <th>Year</th>\n",
              "      <th>Category_EN</th>\n",
              "      <th>Category_AR</th>\n",
              "      <th>Zone_EN</th>\n",
              "      <th>Zone_AR</th>\n",
              "      <th>Stage_EN</th>\n",
              "      <th>Stage_AR</th>\n",
              "      <th>School_Count</th>\n",
              "    </tr>\n",
              "  </thead>\n",
              "  <tbody>\n",
              "    <tr>\n",
              "      <th>0</th>\n",
              "      <td>2012/2013</td>\n",
              "      <td>Government Education</td>\n",
              "      <td>تعليم حكومي</td>\n",
              "      <td>Abu Dhabi Edu. Zone</td>\n",
              "      <td>منطقة أبوظبي التعليمية</td>\n",
              "      <td>kindergarten</td>\n",
              "      <td>رياض الاطفال</td>\n",
              "      <td>26</td>\n",
              "    </tr>\n",
              "    <tr>\n",
              "      <th>1</th>\n",
              "      <td>2012/2013</td>\n",
              "      <td>Government Education</td>\n",
              "      <td>تعليم حكومي</td>\n",
              "      <td>Al Ain Edu. Zone</td>\n",
              "      <td>منطقة العين التعليمية</td>\n",
              "      <td>kindergarten</td>\n",
              "      <td>رياض الاطفال</td>\n",
              "      <td>19</td>\n",
              "    </tr>\n",
              "    <tr>\n",
              "      <th>2</th>\n",
              "      <td>2012/2013</td>\n",
              "      <td>Government Education</td>\n",
              "      <td>تعليم حكومي</td>\n",
              "      <td>Al Garbia Edu. Zone</td>\n",
              "      <td>المنطقة الغربية التعليمية</td>\n",
              "      <td>kindergarten</td>\n",
              "      <td>رياض الاطفال</td>\n",
              "      <td>6</td>\n",
              "    </tr>\n",
              "    <tr>\n",
              "      <th>3</th>\n",
              "      <td>2012/2013</td>\n",
              "      <td>Government Education</td>\n",
              "      <td>تعليم حكومي</td>\n",
              "      <td>Dubai Edu. Zone</td>\n",
              "      <td>منطقة دبي التعليمية</td>\n",
              "      <td>kindergarten</td>\n",
              "      <td>رياض الاطفال</td>\n",
              "      <td>12</td>\n",
              "    </tr>\n",
              "    <tr>\n",
              "      <th>4</th>\n",
              "      <td>2012/2013</td>\n",
              "      <td>Government Education</td>\n",
              "      <td>تعليم حكومي</td>\n",
              "      <td>Sharjah Edu. Zone</td>\n",
              "      <td>منطقة الشارقة التعليمية</td>\n",
              "      <td>kindergarten</td>\n",
              "      <td>رياض الاطفال</td>\n",
              "      <td>23</td>\n",
              "    </tr>\n",
              "  </tbody>\n",
              "</table>\n",
              "</div>"
            ],
            "text/plain": [
              "        Year           Category_EN  ...       Stage_AR School_Count\n",
              "0  2012/2013  Government Education  ...  رياض الاطفال            26\n",
              "1  2012/2013  Government Education  ...  رياض الاطفال            19\n",
              "2  2012/2013  Government Education  ...  رياض الاطفال             6\n",
              "3  2012/2013  Government Education  ...  رياض الاطفال            12\n",
              "4  2012/2013  Government Education  ...  رياض الاطفال            23\n",
              "\n",
              "[5 rows x 8 columns]"
            ]
          },
          "metadata": {
            "tags": []
          },
          "execution_count": 6
        }
      ]
    },
    {
      "cell_type": "markdown",
      "metadata": {
        "button": false,
        "new_sheet": false,
        "run_control": {
          "read_only": false
        },
        "id": "GmrrIwvzXOly",
        "colab_type": "text"
      },
      "source": [
        "Let's find out how many entries there are in our dataset."
      ]
    },
    {
      "cell_type": "code",
      "metadata": {
        "button": false,
        "new_sheet": false,
        "run_control": {
          "read_only": false
        },
        "id": "vC9VLdpMXOl9",
        "colab_type": "code",
        "colab": {
          "base_uri": "https://localhost:8080/",
          "height": 204
        },
        "outputId": "4bc44ff5-c6e7-4fda-9b68-0f5c640345d9"
      },
      "source": [
        "df.drop(['Year', 'Category_EN', 'Category_AR', 'Zone_AR', 'Stage_AR'], axis=1, inplace=True)\n",
        "\n",
        "# let's view the first five elements and see how the dataframe was changed\n",
        "df.head()"
      ],
      "execution_count": 8,
      "outputs": [
        {
          "output_type": "execute_result",
          "data": {
            "text/html": [
              "<div>\n",
              "<style scoped>\n",
              "    .dataframe tbody tr th:only-of-type {\n",
              "        vertical-align: middle;\n",
              "    }\n",
              "\n",
              "    .dataframe tbody tr th {\n",
              "        vertical-align: top;\n",
              "    }\n",
              "\n",
              "    .dataframe thead th {\n",
              "        text-align: right;\n",
              "    }\n",
              "</style>\n",
              "<table border=\"1\" class=\"dataframe\">\n",
              "  <thead>\n",
              "    <tr style=\"text-align: right;\">\n",
              "      <th></th>\n",
              "      <th>Zone_EN</th>\n",
              "      <th>Stage_EN</th>\n",
              "      <th>School_Count</th>\n",
              "    </tr>\n",
              "  </thead>\n",
              "  <tbody>\n",
              "    <tr>\n",
              "      <th>0</th>\n",
              "      <td>Abu Dhabi Edu. Zone</td>\n",
              "      <td>kindergarten</td>\n",
              "      <td>26</td>\n",
              "    </tr>\n",
              "    <tr>\n",
              "      <th>1</th>\n",
              "      <td>Al Ain Edu. Zone</td>\n",
              "      <td>kindergarten</td>\n",
              "      <td>19</td>\n",
              "    </tr>\n",
              "    <tr>\n",
              "      <th>2</th>\n",
              "      <td>Al Garbia Edu. Zone</td>\n",
              "      <td>kindergarten</td>\n",
              "      <td>6</td>\n",
              "    </tr>\n",
              "    <tr>\n",
              "      <th>3</th>\n",
              "      <td>Dubai Edu. Zone</td>\n",
              "      <td>kindergarten</td>\n",
              "      <td>12</td>\n",
              "    </tr>\n",
              "    <tr>\n",
              "      <th>4</th>\n",
              "      <td>Sharjah Edu. Zone</td>\n",
              "      <td>kindergarten</td>\n",
              "      <td>23</td>\n",
              "    </tr>\n",
              "  </tbody>\n",
              "</table>\n",
              "</div>"
            ],
            "text/plain": [
              "               Zone_EN      Stage_EN  School_Count\n",
              "0  Abu Dhabi Edu. Zone  kindergarten            26\n",
              "1     Al Ain Edu. Zone  kindergarten            19\n",
              "2  Al Garbia Edu. Zone  kindergarten             6\n",
              "3      Dubai Edu. Zone  kindergarten            12\n",
              "4    Sharjah Edu. Zone  kindergarten            23"
            ]
          },
          "metadata": {
            "tags": []
          },
          "execution_count": 8
        }
      ]
    },
    {
      "cell_type": "markdown",
      "metadata": {
        "button": false,
        "new_sheet": false,
        "run_control": {
          "read_only": false
        },
        "id": "tDZaBgN5XOmG",
        "colab_type": "text"
      },
      "source": [
        "Notice how the columns Type, Coverage, AREA, REG, and DEV got removed from the dataframe."
      ]
    },
    {
      "cell_type": "code",
      "metadata": {
        "button": false,
        "new_sheet": false,
        "run_control": {
          "read_only": false
        },
        "id": "9e_ga199XOmV",
        "colab_type": "code",
        "colab": {
          "base_uri": "https://localhost:8080/",
          "height": 34
        },
        "outputId": "caefc081-6968-4ffe-ea7c-ea832c21d21c"
      },
      "source": [
        "df.columns = list(map(str, df.columns))\n",
        "\n",
        "# let's check the column labels types now\n",
        "all(isinstance(column, str) for column in df.columns)"
      ],
      "execution_count": 11,
      "outputs": [
        {
          "output_type": "execute_result",
          "data": {
            "text/plain": [
              "True"
            ]
          },
          "metadata": {
            "tags": []
          },
          "execution_count": 11
        }
      ]
    },
    {
      "cell_type": "code",
      "metadata": {
        "id": "C1-pGbiTy7MN",
        "colab_type": "code",
        "colab": {
          "base_uri": "https://localhost:8080/",
          "height": 748
        },
        "outputId": "2af2d0f0-f00e-40f3-febe-2ca006b90fe8"
      },
      "source": [
        "pd.pivot_table(df, values = 'School_Count', index = 'Zone_EN', columns = 'Stage_EN').plot.bar(figsize=(20,10))\n",
        "\n"
      ],
      "execution_count": 16,
      "outputs": [
        {
          "output_type": "execute_result",
          "data": {
            "text/plain": [
              "<matplotlib.axes._subplots.AxesSubplot at 0x7f864111e7f0>"
            ]
          },
          "metadata": {
            "tags": []
          },
          "execution_count": 16
        },
        {
          "output_type": "display_data",
          "data": {
            "image/png": "[encoded data removed]",
            "text/plain": [
              "<Figure size 1440x720 with 1 Axes>"
            ]
          },
          "metadata": {
            "tags": [],
            "needs_background": "light"
          }
        }
      ]
    },
    {
      "cell_type": "code",
      "metadata": {
        "id": "VzOZcVXtAalN",
        "colab_type": "code",
        "colab": {
          "base_uri": "https://localhost:8080/",
          "height": 235
        },
        "outputId": "63b0dd13-6abe-4c35-bf8d-77439e15459e"
      },
      "source": [
        "df_continents = df.groupby('Stage_EN', axis=0).sum()\n",
        "df_continents"
      ],
      "execution_count": 21,
      "outputs": [
        {
          "output_type": "execute_result",
          "data": {
            "text/html": [
              "<div>\n",
              "<style scoped>\n",
              "    .dataframe tbody tr th:only-of-type {\n",
              "        vertical-align: middle;\n",
              "    }\n",
              "\n",
              "    .dataframe tbody tr th {\n",
              "        vertical-align: top;\n",
              "    }\n",
              "\n",
              "    .dataframe thead th {\n",
              "        text-align: right;\n",
              "    }\n",
              "</style>\n",
              "<table border=\"1\" class=\"dataframe\">\n",
              "  <thead>\n",
              "    <tr style=\"text-align: right;\">\n",
              "      <th></th>\n",
              "      <th>School_Count</th>\n",
              "    </tr>\n",
              "    <tr>\n",
              "      <th>Stage_EN</th>\n",
              "      <th></th>\n",
              "    </tr>\n",
              "  </thead>\n",
              "  <tbody>\n",
              "    <tr>\n",
              "      <th>Cycle 1</th>\n",
              "      <td>185</td>\n",
              "    </tr>\n",
              "    <tr>\n",
              "      <th>Cycle 2</th>\n",
              "      <td>118</td>\n",
              "    </tr>\n",
              "    <tr>\n",
              "      <th>Religious</th>\n",
              "      <td>2</td>\n",
              "    </tr>\n",
              "    <tr>\n",
              "      <th>Secondary</th>\n",
              "      <td>96</td>\n",
              "    </tr>\n",
              "    <tr>\n",
              "      <th>kindergarten</th>\n",
              "      <td>124</td>\n",
              "    </tr>\n",
              "  </tbody>\n",
              "</table>\n",
              "</div>"
            ],
            "text/plain": [
              "              School_Count\n",
              "Stage_EN                  \n",
              "Cycle 1                185\n",
              "Cycle 2                118\n",
              "Religious                2\n",
              "Secondary               96\n",
              "kindergarten           124"
            ]
          },
          "metadata": {
            "tags": []
          },
          "execution_count": 21
        }
      ]
    },
    {
      "cell_type": "code",
      "metadata": {
        "id": "L0CF4kdBBEu3",
        "colab_type": "code",
        "colab": {
          "base_uri": "https://localhost:8080/",
          "height": 34
        },
        "outputId": "a75e1c45-5633-4ec1-869f-99f1b0d3fc9b"
      },
      "source": [
        "%matplotlib inline\n",
        "\n",
        "import matplotlib as mpl\n",
        "import matplotlib.pyplot as plt\n",
        "\n",
        "mpl.style.use('ggplot') # optional: for ggplot-like style\n",
        "\n",
        "# check for latest version of Matplotlib\n",
        "print('Matplotlib version: ', mpl.__version__) # >= 2.0.0"
      ],
      "execution_count": 24,
      "outputs": [
        {
          "output_type": "stream",
          "text": [
            "Matplotlib version:  3.2.1\n"
          ],
          "name": "stdout"
        }
      ]
    },
    {
      "cell_type": "code",
      "metadata": {
        "id": "4EO83kgf_TSf",
        "colab_type": "code",
        "colab": {
          "base_uri": "https://localhost:8080/",
          "height": 374
        },
        "outputId": "3c9d16fe-62d6-4ca4-989b-21922f43eafa"
      },
      "source": [
        "# autopct create %, start angle represent starting point\n",
        "df_continents['School_Count'].plot(kind='pie',\n",
        "                            figsize=(5, 6),\n",
        "                            autopct='%1.1f%%', # add in percentages\n",
        "                            startangle=90,     # start angle 90° (Africa)\n",
        "                            shadow=True,       # add shadow      \n",
        "                            )\n",
        "\n",
        "plt.title('Immigration to Canada by Continent [1980 - 2013]')\n",
        "plt.axis('equal') # Sets the pie chart to look like a circle.\n",
        "\n",
        "plt.show()"
      ],
      "execution_count": 25,
      "outputs": [
        {
          "output_type": "display_data",
          "data": {
            "image/png": "[encoded data removed]",
            "text/plain": [
              "<Figure size 360x432 with 1 Axes>"
            ]
          },
          "metadata": {
            "tags": []
          }
        }
      ]
    },
    {
      "cell_type": "code",
      "metadata": {
        "id": "qgjqld5zBHzC",
        "colab_type": "code",
        "colab": {
          "base_uri": "https://localhost:8080/",
          "height": 359
        },
        "outputId": "f2b858cc-717e-49f1-b975-282fc69c1726"
      },
      "source": [
        "dfc = df.groupby('Zone_EN', axis=0).sum()\n",
        "dfc"
      ],
      "execution_count": 26,
      "outputs": [
        {
          "output_type": "execute_result",
          "data": {
            "text/html": [
              "<div>\n",
              "<style scoped>\n",
              "    .dataframe tbody tr th:only-of-type {\n",
              "        vertical-align: middle;\n",
              "    }\n",
              "\n",
              "    .dataframe tbody tr th {\n",
              "        vertical-align: top;\n",
              "    }\n",
              "\n",
              "    .dataframe thead th {\n",
              "        text-align: right;\n",
              "    }\n",
              "</style>\n",
              "<table border=\"1\" class=\"dataframe\">\n",
              "  <thead>\n",
              "    <tr style=\"text-align: right;\">\n",
              "      <th></th>\n",
              "      <th>School_Count</th>\n",
              "    </tr>\n",
              "    <tr>\n",
              "      <th>Zone_EN</th>\n",
              "      <th></th>\n",
              "    </tr>\n",
              "  </thead>\n",
              "  <tbody>\n",
              "    <tr>\n",
              "      <th>Abu Dhabi Edu. Zone</th>\n",
              "      <td>111</td>\n",
              "    </tr>\n",
              "    <tr>\n",
              "      <th>Ajman Edu. Zone</th>\n",
              "      <td>33</td>\n",
              "    </tr>\n",
              "    <tr>\n",
              "      <th>Al Ain Edu. Zone</th>\n",
              "      <td>79</td>\n",
              "    </tr>\n",
              "    <tr>\n",
              "      <th>Al Fujairah Edu. Zone</th>\n",
              "      <td>43</td>\n",
              "    </tr>\n",
              "    <tr>\n",
              "      <th>Al Garbia Edu. Zone</th>\n",
              "      <td>17</td>\n",
              "    </tr>\n",
              "    <tr>\n",
              "      <th>Dubai Edu. Zone</th>\n",
              "      <td>62</td>\n",
              "    </tr>\n",
              "    <tr>\n",
              "      <th>Ras-Al-Khaimah Edu. Zone</th>\n",
              "      <td>64</td>\n",
              "    </tr>\n",
              "    <tr>\n",
              "      <th>Sharjah Edu. Zone</th>\n",
              "      <td>99</td>\n",
              "    </tr>\n",
              "    <tr>\n",
              "      <th>Umm Al Quwain Edu. Zone</th>\n",
              "      <td>17</td>\n",
              "    </tr>\n",
              "  </tbody>\n",
              "</table>\n",
              "</div>"
            ],
            "text/plain": [
              "                          School_Count\n",
              "Zone_EN                               \n",
              "Abu Dhabi Edu. Zone                111\n",
              "Ajman Edu. Zone                     33\n",
              "Al Ain Edu. Zone                    79\n",
              "Al Fujairah Edu. Zone               43\n",
              "Al Garbia Edu. Zone                 17\n",
              "Dubai Edu. Zone                     62\n",
              "Ras-Al-Khaimah Edu. Zone            64\n",
              "Sharjah Edu. Zone                   99\n",
              "Umm Al Quwain Edu. Zone             17"
            ]
          },
          "metadata": {
            "tags": []
          },
          "execution_count": 26
        }
      ]
    },
    {
      "cell_type": "code",
      "metadata": {
        "id": "Au1kyRX1BU-D",
        "colab_type": "code",
        "colab": {
          "base_uri": "https://localhost:8080/",
          "height": 374
        },
        "outputId": "52e5722c-6e4a-4d83-b006-97f50a078b2f"
      },
      "source": [
        "\n",
        "dfc['School_Count'].plot(kind='pie',\n",
        "                            figsize=(5, 6),\n",
        "                            autopct='%1.1f%%', # add in percentages\n",
        "                            startangle=90,     # start angle 90° (Africa)\n",
        "                            shadow=True,       # add shadow      \n",
        "                            )\n",
        "\n",
        "plt.title('Immigration to Canada by Continent [1980 - 2013]')\n",
        "plt.axis('equal') # Sets the pie chart to look like a circle.\n",
        "\n",
        "plt.show()"
      ],
      "execution_count": 28,
      "outputs": [
        {
          "output_type": "display_data",
          "data": {
            "image/png": "[encoded data removed]",
            "text/plain": [
              "<Figure size 360x432 with 1 Axes>"
            ]
          },
          "metadata": {
            "tags": []
          }
        }
      ]
    }
  ]
}